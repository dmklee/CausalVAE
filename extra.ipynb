{
 "cells": [
  {
   "cell_type": "code",
   "execution_count": 1,
   "metadata": {},
   "outputs": [],
   "source": [
    "import numpy as np"
   ]
  },
  {
   "cell_type": "code",
   "execution_count": 2,
   "metadata": {},
   "outputs": [],
   "source": [
    "dataset_zip = np.load(\n",
    "    'dsprites-dataset/dsprites_ndarray_co1sh3sc6or40x32y32_64x64.npz',\n",
    "    encoding = 'bytes',\n",
    "    allow_pickle=True\n",
    ")"
   ]
  },
  {
   "cell_type": "code",
   "execution_count": 3,
   "metadata": {},
   "outputs": [],
   "source": [
    "imgs = dataset_zip['imgs']\n",
    "latents_values = dataset_zip['latents_values']\n",
    "latents_classes = dataset_zip['latents_classes']\n",
    "metadata = dataset_zip['metadata'][()]\n",
    "\n",
    "latents_sizes = metadata[b'latents_sizes']\n",
    "latents_bases = np.concatenate((latents_sizes[::-1].cumprod()[::-1][1:],\n",
    "                                np.array([1,])))"
   ]
  },
  {
   "cell_type": "code",
   "execution_count": 5,
   "metadata": {},
   "outputs": [
    {
     "name": "stdout",
     "output_type": "stream",
     "text": [
      "[[ 0  0  0  0  0  0]\n",
      " [ 0  0  0  0  0  1]\n",
      " [ 0  0  0  0  0  2]\n",
      " ...\n",
      " [ 0  2  5 39 31 29]\n",
      " [ 0  2  5 39 31 30]\n",
      " [ 0  2  5 39 31 31]]\n"
     ]
    }
   ],
   "source": [
    "print(latents_classes)"
   ]
  },
  {
   "cell_type": "code",
   "execution_count": 8,
   "metadata": {},
   "outputs": [
    {
     "data": {
      "text/plain": [
       "{b'date': b'April 2017',\n",
       " b'description': b'Disentanglement test Sprites dataset.Procedurally generated 2D shapes, from 6 disentangled latent factors.This dataset uses 6 latents, controlling the color, shape, scale, rotation and position of a sprite. All possible variations of the latents are present. Ordering along dimension 1 is fixed and can be mapped back to the exact latent values that generated that image.We made sure that the pixel outputs are different. No noise added.',\n",
       " b'version': 1,\n",
       " b'latents_names': (b'color',\n",
       "  b'shape',\n",
       "  b'scale',\n",
       "  b'orientation',\n",
       "  b'posX',\n",
       "  b'posY'),\n",
       " b'latents_possible_values': {b'orientation': array([0.        , 0.16110732, 0.32221463, 0.48332195, 0.64442926,\n",
       "         0.80553658, 0.96664389, 1.12775121, 1.28885852, 1.44996584,\n",
       "         1.61107316, 1.77218047, 1.93328779, 2.0943951 , 2.25550242,\n",
       "         2.41660973, 2.57771705, 2.73882436, 2.89993168, 3.061039  ,\n",
       "         3.22214631, 3.38325363, 3.54436094, 3.70546826, 3.86657557,\n",
       "         4.02768289, 4.1887902 , 4.34989752, 4.51100484, 4.67211215,\n",
       "         4.83321947, 4.99432678, 5.1554341 , 5.31654141, 5.47764873,\n",
       "         5.63875604, 5.79986336, 5.96097068, 6.12207799, 6.28318531]),\n",
       "  b'posX': array([0.        , 0.03225806, 0.06451613, 0.09677419, 0.12903226,\n",
       "         0.16129032, 0.19354839, 0.22580645, 0.25806452, 0.29032258,\n",
       "         0.32258065, 0.35483871, 0.38709677, 0.41935484, 0.4516129 ,\n",
       "         0.48387097, 0.51612903, 0.5483871 , 0.58064516, 0.61290323,\n",
       "         0.64516129, 0.67741935, 0.70967742, 0.74193548, 0.77419355,\n",
       "         0.80645161, 0.83870968, 0.87096774, 0.90322581, 0.93548387,\n",
       "         0.96774194, 1.        ]),\n",
       "  b'posY': array([0.        , 0.03225806, 0.06451613, 0.09677419, 0.12903226,\n",
       "         0.16129032, 0.19354839, 0.22580645, 0.25806452, 0.29032258,\n",
       "         0.32258065, 0.35483871, 0.38709677, 0.41935484, 0.4516129 ,\n",
       "         0.48387097, 0.51612903, 0.5483871 , 0.58064516, 0.61290323,\n",
       "         0.64516129, 0.67741935, 0.70967742, 0.74193548, 0.77419355,\n",
       "         0.80645161, 0.83870968, 0.87096774, 0.90322581, 0.93548387,\n",
       "         0.96774194, 1.        ]),\n",
       "  b'scale': array([0.5, 0.6, 0.7, 0.8, 0.9, 1. ]),\n",
       "  b'shape': array([1., 2., 3.]),\n",
       "  b'color': array([1.])},\n",
       " b'latents_sizes': array([ 1,  3,  6, 40, 32, 32]),\n",
       " b'author': b'lmatthey@google.com',\n",
       " b'title': b'dSprites dataset'}"
      ]
     },
     "execution_count": 8,
     "metadata": {},
     "output_type": "execute_result"
    }
   ],
   "source": [
    "metadata"
   ]
  },
  {
   "cell_type": "code",
   "execution_count": null,
   "metadata": {},
   "outputs": [],
   "source": []
  }
 ],
 "metadata": {
  "kernelspec": {
   "display_name": "Python 3",
   "language": "python",
   "name": "python3"
  },
  "language_info": {
   "codemirror_mode": {
    "name": "ipython",
    "version": 3
   },
   "file_extension": ".py",
   "mimetype": "text/x-python",
   "name": "python",
   "nbconvert_exporter": "python",
   "pygments_lexer": "ipython3",
   "version": "3.7.3"
  }
 },
 "nbformat": 4,
 "nbformat_minor": 2
}
